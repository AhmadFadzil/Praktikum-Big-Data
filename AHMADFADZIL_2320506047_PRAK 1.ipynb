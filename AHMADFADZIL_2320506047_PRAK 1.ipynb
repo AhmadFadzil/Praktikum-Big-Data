{
 "cells": [
  {
   "cell_type": "markdown",
   "id": "609a8434-3bcb-400c-951d-e8b3105344a3",
   "metadata": {},
   "source": [
    "####"
   ]
  },
  {
   "cell_type": "markdown",
   "id": "9d24d3dd-21b0-466e-b973-a0a08e24922a",
   "metadata": {},
   "source": [
    "### 1. Pengenalan dan Praktik Dasar PySpark dan Pandas \n",
    "Langkah 1: Membuka Jupyter Notebook Setelah instalasi selesai, buka Jupyter Notebook melalui Anaconda Navigator atau melalui terminal dengan perintah:\n",
    "\r\n",
    "jupyter notebo.\n",
    "\n",
    "Langkah 2: Membuat Project Notebook Baru Di Jupyter Notebook, buat notebook baru untuk praktikum ini.\n",
    "\n",
    "Langkah 3: Praktik dengan PySpark Buat program sederhana untuk memulai dengan PySpark. Gunakan PySpark untuk membuat DataFrame dan memanipulasi data sederhanahana:"
   ]
  },
  {
   "cell_type": "code",
   "execution_count": 41,
   "id": "580819f4-92c8-45fb-b494-ce61e1c67b8b",
   "metadata": {},
   "outputs": [
    {
     "name": "stdout",
     "output_type": "stream",
     "text": [
      "+-------+----+---------+\n",
      "|   Nama|Usia|Pekerjaan|\n",
      "+-------+----+---------+\n",
      "|Nketiah|  30|   Montir|\n",
      "|Bakumbu|  21|  Petinju|\n",
      "|Ronaldo|  19| Pembalap|\n",
      "|Patrick|  25| Youtuber|\n",
      "+-------+----+---------+\n",
      "\n"
     ]
    }
   ],
   "source": [
    "#TUGAS 1\n",
    "from pyspark.sql import SparkSession\n",
    "\n",
    "# Memulai Spark session\n",
    "spark = SparkSession.builder.appName(\"BigDataPractice\").getOrCreate()\n",
    "\n",
    "# Membuat DataFrame sederhana\n",
    "data = [(\"Nketiah\", 30,\"Montir\"), (\"Bakumbu\", 21,\"Petinju\"), (\"Ronaldo\", 19,\"Pembalap\"), (\"Patrick\", 25,\"Youtuber\")]\n",
    "columns = [\"Nama\", \"Usia\",\"Pekerjaan\"]\n",
    "df = spark.createDataFrame(data, columns)\n",
    "\n",
    "# Menampilkan DataFrame\n",
    "df.show()"
   ]
  },
  {
   "cell_type": "markdown",
   "id": "9ea86ebc-0440-4e13-9484-e45589d3e38b",
   "metadata": {},
   "source": [
    "- `data = [(\"Nketiah\", 30,\"Montir\"), (\"Bakumbu\", 21,\"Petinju\"), (\"Ronaldo\", 19,\"Pembalap\"), (\"Patrick\", 25,\"Youtuber\")]` merupakan kode yang berisi list yang kemudian terdapat beberapa isi didalamnya. Seperti pada contoh ` \"Nketiah\", 30, \"Montir\"` yang memiliki penjabaran yaitu Nama: \"Nketiah\", Usia: 30, Pekerjaan: \"Montir\". Dan seterusnya.\n",
    "- `df = spark.createDataFrame(data, columns)` merupakan kode yang berarti nama variabel  `df` akan berisi sebuah DataFrame Spark dengan kolom Nama, Usia, dan Pekerjaan, dan setiap baris DataFrame akan mewakili masing-masing tuple dari data.\n",
    "- `df.show()` kode ini memiliki fungsi untuk menampilkan hasil dari kode diatas."
   ]
  },
  {
   "cell_type": "markdown",
   "id": "f624f7b1-accf-4328-b39a-f7304a92bcf4",
   "metadata": {},
   "source": [
    "### 2. Praktik PySpark Lanjutan\n",
    "Memanipulasi Data dengan PySpark."
   ]
  },
  {
   "cell_type": "code",
   "execution_count": 1,
   "id": "71efaebc-a289-4ddb-9dfb-04a8b564b9a7",
   "metadata": {},
   "outputs": [
    {
     "name": "stdout",
     "output_type": "stream",
     "text": [
      "+-------+----+---------+\n",
      "|   Nama|Usia|Pekerjaan|\n",
      "+-------+----+---------+\n",
      "|Nketiah|  30|   Montir|\n",
      "|Bakumbu|  21|  Petinju|\n",
      "|Ronaldo|  19| Pembalap|\n",
      "|Patrick|  25| Youtuber|\n",
      "+-------+----+---------+\n",
      "\n",
      "+-------+----+---------+\n",
      "|   Nama|Usia|Pekerjaan|\n",
      "+-------+----+---------+\n",
      "|Nketiah|  30|   Montir|\n",
      "|Bakumbu|  21|  Petinju|\n",
      "|Patrick|  25| Youtuber|\n",
      "+-------+----+---------+\n",
      "\n",
      "+---------+\n",
      "|avg(Usia)|\n",
      "+---------+\n",
      "|    23.75|\n",
      "+---------+\n",
      "\n",
      "+-------+----+---------+\n",
      "|   Nama|Usia|Pekerjaan|\n",
      "+-------+----+---------+\n",
      "|Nketiah|  30|   Montir|\n",
      "|Patrick|  25| Youtuber|\n",
      "|Bakumbu|  21|  Petinju|\n",
      "|Ronaldo|  19| Pembalap|\n",
      "+-------+----+---------+\n",
      "\n"
     ]
    }
   ],
   "source": [
    "#Tugas 2\n",
    "from pyspark.sql import SparkSession\n",
    "\n",
    "# Memulai Spark session\n",
    "spark = SparkSession.builder.appName(\"BigDataPractice\").getOrCreate()\n",
    "\n",
    "# Membuat DataFrame sederhana\n",
    "data = [(\"Nketiah\", 30,\"Montir\"), (\"Bakumbu\", 21,\"Petinju\"), (\"Ronaldo\", 19,\"Pembalap\"), (\"Patrick\", 25,\"Youtuber\")]\n",
    "columns = [\"Nama\", \"Usia\",\"Pekerjaan\"]\n",
    "df = spark.createDataFrame(data, columns)\n",
    "\n",
    "# Menampilkan DataFrame\n",
    "df.show()\n",
    "\n",
    "# Filtering data\n",
    "df_filtered = df.filter(df['Usia'] > 19)\n",
    "df_filtered.show()\n",
    "\n",
    "# Menghitung rata-rata usia\n",
    "from pyspark.sql.functions import avg\n",
    "df.groupBy().agg(avg(\"Usia\")).show()\n",
    "\n",
    "# Mengurutkan data berdasarkan usia\n",
    "df_sorted = df.orderBy(\"Usia\", ascending=False)\n",
    "df_sorted.show()"
   ]
  },
  {
   "cell_type": "markdown",
   "id": "56a0094c-5d30-4ba7-ab9a-e04c7984f2b7",
   "metadata": {},
   "source": [
    "Kode diatas terdapat perubahan yaitu adanya kode untuk melakukan filter, penghitungan rata-rata, dan pengurutan data menggunakan PySpark.\n",
    "1. `df_filtered = df.filter(df['Usia'] > 19) df_filtered.show()` memiliki arti yaitu :\n",
    "- Metode `filter()` digunakan untuk menyaring baris-baris.\n",
    "- `df['Usia'] > 19)` berfungsi uuntuk memfilter data. Dalam hal ini, baris yang akan disaring adalah baris di mana nilai dalam kolom Usia lebih besar dari 19.\n",
    "  \n",
    "2. `from pyspark.sql.functions import avg df.groupBy().agg(avg(\"Usia\")).show()`\n",
    "- Mengimpor fungsi `avg` dari modul `pyspark.sql.functions`. Fungsi `avg` digunakan untuk menghitung rata-rata.\n",
    "- `avg(\"Usia\")` berfungsi untuk menghitung rata-rata nilai dari kolom Usia untuk seluruh DataFrame.\n",
    "\n",
    "3. `df_sorted = df.orderBy(\"Usia\", ascending=False) df_sorted.show()`\n",
    "- Metode `orderBy()` digunakan untuk mengurutkan DataFrame berdasarkan kolom tertentu.\n",
    "- Kolom `Usia` adalah kolom yang digunakan sebagai dasar pengurutan.\n",
    "- `ascending=False` Menentukan bahwa pengurutan dilakukan secara menurun (descending). Artinya, data akan diurutkan dari yang terbesar ke yang terkecil berdasarkan nilai Usia."
   ]
  },
  {
   "cell_type": "markdown",
   "id": "46eef251-78c7-4e20-8077-3dec8012ea8a",
   "metadata": {},
   "source": [
    "### 3. Praktik dengan Pandas \n",
    "Buat DataFrame menggunakan Pandas:"
   ]
  },
  {
   "cell_type": "code",
   "execution_count": 16,
   "id": "abd67a0d-d84d-4b79-80e3-8860e2dc1eef",
   "metadata": {},
   "outputs": [
    {
     "data": {
      "text/html": [
       "<div>\n",
       "<style scoped>\n",
       "    .dataframe tbody tr th:only-of-type {\n",
       "        vertical-align: middle;\n",
       "    }\n",
       "\n",
       "    .dataframe tbody tr th {\n",
       "        vertical-align: top;\n",
       "    }\n",
       "\n",
       "    .dataframe thead th {\n",
       "        text-align: right;\n",
       "    }\n",
       "</style>\n",
       "<table border=\"1\" class=\"dataframe\">\n",
       "  <thead>\n",
       "    <tr style=\"text-align: right;\">\n",
       "      <th></th>\n",
       "      <th>Nama</th>\n",
       "      <th>Usia</th>\n",
       "      <th>Hobi</th>\n",
       "    </tr>\n",
       "  </thead>\n",
       "  <tbody>\n",
       "    <tr>\n",
       "      <th>1</th>\n",
       "      <td>Budi</td>\n",
       "      <td>20</td>\n",
       "      <td>Sepak Bola</td>\n",
       "    </tr>\n",
       "    <tr>\n",
       "      <th>2</th>\n",
       "      <td>Citra</td>\n",
       "      <td>25</td>\n",
       "      <td>Renang</td>\n",
       "    </tr>\n",
       "    <tr>\n",
       "      <th>3</th>\n",
       "      <td>Dina</td>\n",
       "      <td>25</td>\n",
       "      <td>Badminton</td>\n",
       "    </tr>\n",
       "  </tbody>\n",
       "</table>\n",
       "</div>"
      ],
      "text/plain": [
       "    Nama  Usia        Hobi\n",
       "1   Budi    20  Sepak Bola\n",
       "2  Citra    25      Renang\n",
       "3   Dina    25   Badminton"
      ]
     },
     "execution_count": 16,
     "metadata": {},
     "output_type": "execute_result"
    }
   ],
   "source": [
    "#Tugas 3\n",
    "import pandas as pd\n",
    "\n",
    "# Membuat DataFrame Pandas\n",
    "data_pandas = {\"Nama\": [\"Ali\", \"Budi\", \"Citra\", \"Dina\"], \"Usia\": [31, 20, 25, 25],\"Hobi\": [\"Memancing\", \"Sepak Bola\", \"Renang\", \"Badminton\"]}\n",
    "df_pandas = pd.DataFrame(data_pandas)\n",
    "\n",
    "\n",
    "# Membuat DataFrame dari dictionary\n",
    "df_pandas = pd.DataFrame(data_pandas)\n",
    "\n",
    "# Memfilter data untuk usia di bawah 30 tahun\n",
    "df_filtered = df_pandas[df_pandas[\"Usia\"] < 30]\n",
    "\n",
    "# Menampilkan DataFrame yang telah difilter\n",
    "df_filtered"
   ]
  },
  {
   "cell_type": "markdown",
   "id": "a450cfe1-e87a-4f61-813c-ae441738918e",
   "metadata": {},
   "source": [
    "1. `data_pandas `: berisi data-data yang telah dikumpulkan, `df_pandas = pd.DataFrame(data_pandas)` adalah sebuah DataFrame yang menggunakan library Pandas.\n",
    "\n",
    "2. df_pandas = pd.DataFrame(data_pandas) :\n",
    "- Variabel `df_pandas` menyimpan DataFrame yang dihasilkan.\n",
    "- `pd` untuk mengimpor `pandas` dengan alias sebagai `pd`.\n",
    "- `DataFrame(...)`: Fungsi ini digunakan untuk membuat objek DataFrame di Pandas.\n",
    "- `data_pandas`: Ini adalah data yang akan dimasukkan ke dalam DataFrame.\n",
    "\n",
    "3. `df_filtered` berfungsi untuk menampilkan data yang telah dibuat."
   ]
  },
  {
   "cell_type": "markdown",
   "id": "1e937262-cc77-4766-8870-3ea7c2f78310",
   "metadata": {},
   "source": [
    "### 4. Praktik Pandas Lanjutan\n",
    "Penggunaan Pandas untuk operasi lebih kompleks."
   ]
  },
  {
   "cell_type": "code",
   "execution_count": 31,
   "id": "ce23f025-9dc9-40c5-a41c-a7decd5e8160",
   "metadata": {},
   "outputs": [
    {
     "name": "stdout",
     "output_type": "stream",
     "text": [
      "DataFrame yang digabungkan:\n",
      "      Nama  Usia Pekerjaan\n",
      "0   Thomas    34    Dokter\n",
      "1     John    23      Guru\n",
      "2  Reynold    29  Insinyur\n",
      "3     Bush    45   Perawat\n"
     ]
    },
    {
     "data": {
      "image/png": "[encoded data removed]",
      "text/plain": [
       "<Figure size 1000x600 with 1 Axes>"
      ]
     },
     "metadata": {},
     "output_type": "display_data"
    }
   ],
   "source": [
    "#Tugas 4\n",
    "import pandas as pd\n",
    "import matplotlib.pyplot as plt\n",
    "\n",
    "# Membuat DataFrame pertama\n",
    "data_pandas = {\"Nama\": [\"Thomas\", \"John\", \"Reynold\", \"Bush\"], \"Usia\": [34, 23, 29, 45]}\n",
    "df_pandas = pd.DataFrame(data_pandas)\n",
    "\n",
    "# Membuat DataFrame kedua\n",
    "data_pandas_2 = {\"Nama\": [\"Thomas\", \"John\", \"Reynold\", \"Bush\"], \"Pekerjaan\": [\"Dokter\", \"Guru\", \"Insinyur\", \"Perawat\"]}\n",
    "df_pandas_2 = pd.DataFrame(data_pandas_2)\n",
    "\n",
    "# Join antara dua DataFrame berdasarkan kolom \"Nama\"\n",
    "df_joined = pd.merge(df_pandas, df_pandas_2, on=\"Nama\")\n",
    "\n",
    "# Menampilkan DataFrame yang telah digabungkan\n",
    "print(\"DataFrame yang digabungkan:\")\n",
    "print (df_joined)\n",
    "\n",
    "# Plotting Data\n",
    "plt.figure(figsize=(10, 6)) #Ukuran tabel\n",
    "df_pandas['Usia'].plot(kind='bar',x='Nama', y='Usia', color='Blue')\n",
    "plt.xlabel('Nama')\n",
    "plt.ylabel('Usia')\n",
    "plt.xticks(rotation=0)  # Memutar label x agar lebih mudah dibaca\n",
    "plt.title('Distribusi Usia Berdasarkan Nama') #Judul Tabel\n",
    "plt.show()\n"
   ]
  },
  {
   "cell_type": "markdown",
   "id": "6873bf1e-3948-4959-9e32-ebc597c072cf",
   "metadata": {},
   "source": [
    "1. `data_pandas = {\"Nama\": [\"Thomas\", \"John\", \"Reynold\", \"Bush\"], \"Usia\": [34, 23, 29, 45]} df_pandas = pd.DataFrame(data_pandas)`\n",
    "- Merupakan data yang pertama.\n",
    "\n",
    "3. `data_pandas_2 = {\"Nama\": [\"Thomas\", \"John\", \"Reynold\", \"Bush\"], \"Pekerjaan\": [\"Dokter\", \"Guru\", \"Insinyur\", \"Perawat\"]} df_pandas_2 = pd.DataFrame(data_pandas_2)`\n",
    "- Merupakan data yang kedua.\n",
    "\n",
    "5. df_joined = pd.merge(df_pandas, df_pandas_2, on=\"Nama\") :\n",
    "- `pd.merge(...)`: Fungsi ini digunakan untuk menggabungkan dua DataFrame.\n",
    "- `on=\"Nama\"` berfungsi untuk menggabungkan berdasarkan variabel \"nama\".\n",
    "- Variabel `df_joined` menyimpan DataFrame yang dihasilkan dari penggabungan.\n",
    "\n",
    "4. `print(\"DataFrame yang digabungkan:\") print (df_joined)`\n",
    "- Befungsi untuk menampilkan hasil dari penggabungan.\n",
    "\n",
    "5. Plotting data yaitu menampilkan data dalam bentuk grafik:\n",
    "- `plt.figure(figsize=(10, 6))` : merupakan ukuran tabel grafik yang akan dibuat.\n",
    "-  `df_pandas['Usia'].plot(kind='bar',x='Nama', y='Usia', color='Blue')` : `df_pandas.plot(...):` Metode ini membuat plot dari DataFrame. `kind='bar'`:Menentukan bahwa plot yang dibuat adalah grafik batang.\n",
    "`x='Nama'`: Kolom Nama digunakan sebagai sumbu-x.\n",
    "`y='Usia'`: Kolom Usia digunakan sebagai sumbu-y.\n",
    "`color='Blue'`: Menentukan warna batang grafik menjadi biru.\n",
    "- `plt.xlabel('Nama')` : sumbu x akan diisi oleh variabel nama.\n",
    "- `plt.ylabel('Usia')` : sumbu y akan diisi oleh variabel usia.\n",
    "- plt.xticks(rotation=0)  : Memutar label x agar lebih mudah dibaca\n",
    "- plt.title('Distribusi Usia Berdasarkan Nama') : Judul Tabel\n",
    "- plt.show() : berfungsi untuk menampilkan grafik yang telah dibuat.\n"
   ]
  },
  {
   "cell_type": "markdown",
   "id": "afe3ccf7-3130-4e5c-8bc0-aff81cd7e810",
   "metadata": {},
   "source": [
    "### 5. Menggabungkan PySpark dan Pandas\n",
    "Praktik untuk convert DataFrame dari PySpark ke Pandas dan sebaliknya"
   ]
  },
  {
   "cell_type": "code",
   "execution_count": 52,
   "id": "2f69d8e3-b39b-4721-8ee9-e8546848be5c",
   "metadata": {},
   "outputs": [
    {
     "name": "stdout",
     "output_type": "stream",
     "text": [
      "+-----+----+\n",
      "| Nama|Usia|\n",
      "+-----+----+\n",
      "|  Ali|  34|\n",
      "| Budi|  23|\n",
      "|Citra|  29|\n",
      "| Dina|  45|\n",
      "+-----+----+\n",
      "\n",
      "Rata-rata usia : 32.75\n"
     ]
    }
   ],
   "source": [
    "# Mengonversi DataFrame dari PySpark ke Pandas\n",
    "df_pandas_from_spark = df.toPandas()\n",
    "\n",
    "# Mengonversi DataFrame dari Pandas ke PySpark\n",
    "df_spark_from_pandas = spark.createDataFrame(df_pandas)\n",
    "\n",
    "# Menampilkan DataFrame hasil konversi\n",
    "df_pandas_from_spark, df_spark_from_pandas.show()\n",
    "\n",
    "#Menghitung rata-rata\n",
    "rata_rata_usia = df_pandas[\"Usia\"].mean()\n",
    "print(f\"Rata-rata usia : {rata_rata_usia}\")"
   ]
  },
  {
   "cell_type": "markdown",
   "id": "35f1dd82-e0b3-4624-bfc4-9f48754fc12d",
   "metadata": {},
   "source": [
    "1. `df_pandas_from_spark = df.toPandas()` :\n",
    "- Berfungsi untuk mengkonversi dataframe dari pyspark ke pandas.\n",
    "\n",
    "2. `df_spark_from_pandas = spark.createDataFrame(df_pandas)` :\n",
    "- Berfungsi untuk mengkonversi dataframe dari pandas ke pyspark.\n",
    "\n",
    "3. `df_pandas_from_spark, df_spark_from_pandas.show()` :\n",
    "- Berfungsi untuk menampilkan data konversi dengan menggunakan `.show()`\n",
    "\n",
    "4.`rata_rata_usia = df_pandas[\"Usia\"].mean() print(f\"Rata-rata usia : {rata_rata_usia}\")` :\n",
    "- `rata_rata_usia` : digunakan untuk menyimpan hasil dari perhitungan rata-rata.\n",
    "- `df_pandas[\"Usia\"]` : berfungsi untuk menghitung rata-rata berdasarkan usia.\n",
    "- `.mean()` : berfungsi sebagai rumus untuk menghitung rata-rata.\n",
    "- `print(f\"Rata-rata usia : {rata_rata_usia}\")` : berfungsi menampilkan hasil dari perhitungan rata-rata."
   ]
  },
  {
   "cell_type": "markdown",
   "id": "43c0cd57-3ce5-4a7c-ba33-cbfa30552e8f",
   "metadata": {},
   "source": [
    "### 6. Konversi Data antara PySpark dan Pandas\n"
   ]
  },
  {
   "cell_type": "code",
   "execution_count": 55,
   "id": "2b4cd855-f8b7-4fe7-85ff-3aee25164b08",
   "metadata": {},
   "outputs": [
    {
     "name": "stdout",
     "output_type": "stream",
     "text": [
      "+-----+----+\n",
      "| Nama|Usia|\n",
      "+-----+----+\n",
      "|  Ali|  34|\n",
      "| Budi|  23|\n",
      "|Citra|  29|\n",
      "| Dina|  45|\n",
      "+-----+----+\n",
      "\n",
      "Nilai maksimum usia: 45\n"
     ]
    }
   ],
   "source": [
    "# Mengonversi DataFrame dari PySpark ke Pandas\n",
    "df_pandas_from_spark = df.toPandas()\n",
    "\n",
    "# Mengonversi DataFrame dari Pandas ke PySpark\n",
    "df_spark_from_pandas = spark.createDataFrame(df_pandas)\n",
    "\n",
    "# Menampilkan DataFrame hasil konversi\n",
    "df_pandas_from_spark, df_spark_from_pandas.show()\n",
    "\n",
    "# Menghitung nilai maksimum usia di Pandas\n",
    "nilai_maksimum_usia = df_pandas[\"Usia\"].max()\n",
    "print(f\"Nilai maksimum usia: {nilai_maksimum_usia}\")"
   ]
  },
  {
   "cell_type": "markdown",
   "id": "8b9bb80e-ccf9-43f1-9cde-406ca71f7951",
   "metadata": {},
   "source": [
    "1. `df_pandas_from_spark = df.toPandas()` :\n",
    "- Berfungsi untuk mengkonversi dataframe dari pyspark ke pandas.\n",
    "\n",
    "2. `df_spark_from_pandas = spark.createDataFrame(df_pandas)` :\n",
    "- Berfungsi untuk mengkonversi dataframe dari pandas ke pyspark.\n",
    "\n",
    "3. `df_pandas_from_spark, df_spark_from_pandas.show()` :\n",
    "- Berfungsi untuk menampilkan data konversi dengan menggunakan `.show()`\n",
    "\n",
    "4. `nilai_maksimum_usia = df_pandas[\"Usia\"].max() print(f\"Nilai maksimum usia: {nilai_maksimum_usia_pandas}\")`\n",
    "-  `nilai_maksimum_usia` : digunakan untuk menyimpan hasil dari perhitungan.\n",
    "-  `df_pandas[\"Usia\"]` : berfungsi untuk menghitung rata-rata berdasarkan usia.\n",
    "-  `.max()` : berfungsi untuk rumus menghitung nilai umur yang tertinggi.\n",
    "-  `print(f\"Nilai maksimum usia: {nilai_maksimum_usia}\")` : berfungsi menampilkan hasil dari perhitungan."
   ]
  },
  {
   "cell_type": "code",
   "execution_count": null,
   "id": "42747378-322c-4738-ba5c-fd6c769d69fd",
   "metadata": {},
   "outputs": [],
   "source": []
  }
 ],
 "metadata": {
  "kernelspec": {
   "display_name": "Python 3 (ipykernel)",
   "language": "python",
   "name": "python3"
  },
  "language_info": {
   "codemirror_mode": {
    "name": "ipython",
    "version": 3
   },
   "file_extension": ".py",
   "mimetype": "text/x-python",
   "name": "python",
   "nbconvert_exporter": "python",
   "pygments_lexer": "ipython3",
   "version": "3.11.9"
  }
 },
 "nbformat": 4,
 "nbformat_minor": 5
}
